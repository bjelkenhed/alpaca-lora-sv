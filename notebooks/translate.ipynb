{
 "cells": [
  {
   "cell_type": "code",
   "execution_count": 1,
   "id": "88167e25-a830-4a1c-988b-9d24e92708ac",
   "metadata": {
    "tags": []
   },
   "outputs": [
    {
     "name": "stderr",
     "output_type": "stream",
     "text": [
      "/opt/conda/lib/python3.10/site-packages/requests/__init__.py:102: RequestsDependencyWarning: urllib3 (1.26.9) or chardet (5.1.0)/charset_normalizer (2.0.12) doesn't match a supported version!\n",
      "  warnings.warn(\"urllib3 ({}) or chardet ({})/charset_normalizer ({}) doesn't match a supported \"\n"
     ]
    }
   ],
   "source": [
    "import openai\n",
    "import json\n",
    "from concurrent.futures import ThreadPoolExecutor, as_completed\n",
    "from tqdm import tqdm"
   ]
  },
  {
   "cell_type": "code",
   "execution_count": 2,
   "id": "5bb7d19c-8fc0-4acf-a730-2dae6fc108fd",
   "metadata": {
    "tags": []
   },
   "outputs": [],
   "source": [
    "openai.api_key = ''"
   ]
  },
  {
   "cell_type": "code",
   "execution_count": 3,
   "id": "9d8565ad-8882-4ff5-8b38-47f4a94031b6",
   "metadata": {
    "tags": []
   },
   "outputs": [],
   "source": [
    "def translate_text(value):\n",
    "    response = openai.ChatCompletion.create(\n",
    "        model=\"gpt-3.5-turbo\",\n",
    "        messages=[\n",
    "                {\"role\": \"system\", \"content\": \"You are a helpful assistant.\"},\n",
    "                {\"role\": \"user\", \"content\": f\"Translate the following text to Swedish: '{value}'\"},\n",
    "            ],\n",
    "        max_tokens=1024,\n",
    "        temperature=0,\n",
    "        )\n",
    "    return response.choices[0][\"message\"][\"content\"].strip()\n",
    "\n",
    "def translate_item(item):\n",
    "    translated_item = {}\n",
    "    for key, value in item.items():\n",
    "        if value:\n",
    "            translated_value = translate_text(value)\n",
    "            translated_item[key] = translated_value\n",
    "        else:\n",
    "            translated_item[key] = ''\n",
    "    return translated_item"
   ]
  },
  {
   "cell_type": "code",
   "execution_count": 12,
   "id": "d82553a8-3941-44e3-b9e0-7c63de59368e",
   "metadata": {
    "tags": []
   },
   "outputs": [],
   "source": [
    "# Maximum number of parallel requests\n",
    "MAX_PARALLEL_REQUESTS = 50\n",
    "\n",
    "# Assuming the input JSON is in a file named 'input.json'\n",
    "with open('alpaca_data_cleaned.json', 'r') as f:\n",
    "    data = json.load(f)\n"
   ]
  },
  {
   "cell_type": "code",
   "execution_count": 13,
   "id": "ba431b1b-156c-462f-8a0b-137cb652ac8e",
   "metadata": {
    "tags": []
   },
   "outputs": [],
   "source": [
    "def translate(data):\n",
    "    with ThreadPoolExecutor(max_workers=MAX_PARALLEL_REQUESTS) as executor:\n",
    "        futures = {executor.submit(translate_item, item): item for item in data}\n",
    "\n",
    "        for future in tqdm(as_completed(futures), total=len(futures), desc=\"Translating\"):\n",
    "            translated_data.append(future.result())\n",
    "\n",
    "    # Save the translated data to a new JSON file named 'translated_data.json'\n",
    "    with open(f'translated_data_up_to_{start}_to_{end}.json', 'w') as f:\n",
    "        json.dump(translated_data, f, ensure_ascii=False, indent=4)\n",
    "\n",
    "    print(f\"Translation complete. The translated data is saved in 'translated_data_from_{start}_to_{end}.json'\")"
   ]
  },
  {
   "cell_type": "code",
   "execution_count": 19,
   "id": "00e38d69-a22a-4245-a337-e64e1568bd97",
   "metadata": {},
   "outputs": [
    {
     "name": "stdout",
     "output_type": "stream",
     "text": [
      "52000 53000\n"
     ]
    },
    {
     "name": "stderr",
     "output_type": "stream",
     "text": [
      "Translating: 0it [00:00, ?it/s]"
     ]
    },
    {
     "name": "stdout",
     "output_type": "stream",
     "text": [
      "Translation complete. The translated data is saved in 'translated_data_from_52000_to_53000.json'\n"
     ]
    },
    {
     "name": "stderr",
     "output_type": "stream",
     "text": [
      "\n"
     ]
    }
   ],
   "source": [
    "for i in range(52000, 53000, 1000):\n",
    "    start = i\n",
    "    end = i + 1000\n",
    "    translated_data = []\n",
    "    step_data = data[start:end]\n",
    "    print(start, end)\n",
    "    translate(step_data)"
   ]
  },
  {
   "cell_type": "code",
   "execution_count": null,
   "id": "91a5713d-1d92-4d40-b151-f324afd7973f",
   "metadata": {},
   "outputs": [],
   "source": []
  }
 ],
 "metadata": {
  "kernelspec": {
   "display_name": "Python 3 (ipykernel)",
   "language": "python",
   "name": "python3"
  },
  "language_info": {
   "codemirror_mode": {
    "name": "ipython",
    "version": 3
   },
   "file_extension": ".py",
   "mimetype": "text/x-python",
   "name": "python",
   "nbconvert_exporter": "python",
   "pygments_lexer": "ipython3",
   "version": "3.10.9"
  }
 },
 "nbformat": 4,
 "nbformat_minor": 5
}
