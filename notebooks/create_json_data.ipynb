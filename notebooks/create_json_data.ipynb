{
 "cells": [
  {
   "cell_type": "code",
   "execution_count": 44,
   "id": "294ded43-b4cd-4cfb-b848-1cf9e29a4b74",
   "metadata": {
    "tags": []
   },
   "outputs": [],
   "source": [
    "import json"
   ]
  },
  {
   "cell_type": "code",
   "execution_count": 45,
   "id": "580a9b68-51ad-47e8-916a-2dd229fb5450",
   "metadata": {
    "tags": []
   },
   "outputs": [],
   "source": [
    "def clean_data(data):\n",
    "    for item in data:\n",
    "        item['instruction'] = item['instruction'].strip(\"\\\"'\")\n",
    "        item['input'] = item['input'].strip(\"\\\"'\")\n",
    "        item['output'] = item['output'].strip(\"\\\"'\")\n",
    "    return data"
   ]
  },
  {
   "cell_type": "code",
   "execution_count": 47,
   "id": "bc6e2578-7de5-49f1-b2ae-af6c2d3bc06d",
   "metadata": {
    "tags": []
   },
   "outputs": [],
   "source": [
    "def generate_alpaca_sv():\n",
    "    alpaca_sv_data = []\n",
    "    for i in range(0, 52000, 1000):\n",
    "        start = i\n",
    "        end = i + 1000\n",
    "        with open(f'data/translated_data_up_to_{start}_to_{end}.json', 'r') as f:\n",
    "            data = json.load(f)\n",
    "            cleaned_data = clean_data(data)\n",
    "            alpaca_sv_data.extend(cleaned_data)\n",
    "    return alpaca_sv_data"
   ]
  },
  {
   "cell_type": "code",
   "execution_count": 48,
   "id": "a315f91e-207c-4db9-8cee-e061bae27f35",
   "metadata": {
    "tags": []
   },
   "outputs": [],
   "source": [
    "alpaca_sv_data_cleaned = generate_alpaca_sv()"
   ]
  },
  {
   "cell_type": "code",
   "execution_count": 50,
   "id": "b8d071a7-4daa-4f4f-a350-ff478a57bb94",
   "metadata": {
    "tags": []
   },
   "outputs": [
    {
     "data": {
      "text/plain": [
       "51942"
      ]
     },
     "execution_count": 50,
     "metadata": {},
     "output_type": "execute_result"
    }
   ],
   "source": [
    "len(alpaca_sv_data_cleaned)"
   ]
  },
  {
   "cell_type": "code",
   "execution_count": 51,
   "id": "a07d0455-a4a2-446c-a227-66bf018055b2",
   "metadata": {},
   "outputs": [],
   "source": [
    "with open('alpaca_sv_data_cleaned.json', 'w') as f:\n",
    "    json.dump(alpaca_sv_data_cleaned, f, ensure_ascii=False, indent=4)"
   ]
  },
  {
   "cell_type": "code",
   "execution_count": null,
   "id": "dab53f9b-fd4f-47ec-8002-d716e3f3973c",
   "metadata": {},
   "outputs": [],
   "source": []
  }
 ],
 "metadata": {
  "kernelspec": {
   "display_name": "Python 3 (ipykernel)",
   "language": "python",
   "name": "python3"
  },
  "language_info": {
   "codemirror_mode": {
    "name": "ipython",
    "version": 3
   },
   "file_extension": ".py",
   "mimetype": "text/x-python",
   "name": "python",
   "nbconvert_exporter": "python",
   "pygments_lexer": "ipython3",
   "version": "3.10.9"
  }
 },
 "nbformat": 4,
 "nbformat_minor": 5
}
